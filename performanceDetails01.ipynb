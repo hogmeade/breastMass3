{
 "cells": [
  {
   "cell_type": "code",
   "execution_count": 136,
   "id": "51d325fc-5214-4b73-93ea-3fb8a036dab4",
   "metadata": {},
   "outputs": [],
   "source": [
    "import matplotlib.pyplot as plt\n",
    "import numpy as np\n",
    "import shutil\n",
    "import os\n",
    "import pandas as pd\n",
    "import time\n",
    "import pickle\n",
    "import shutil\n",
    "import argparse\n",
    "import numpy as np\n",
    "import glob\n",
    "import torch.nn as nn\n",
    "import torch\n",
    "import torch.optim as optim\n",
    "\n",
    "from PIL import Image\n",
    "from torch.utils.data import DataLoader\n",
    "from torchvision import transforms\n",
    "from torchvision import datasets\n",
    "\n",
    "import os\n",
    "import time\n",
    "import pickle\n",
    "\n",
    "import shutil\n",
    "import argparse\n",
    "import numpy as np\n",
    "\n",
    "import torch\n",
    "import torchvision\n",
    "\n",
    "import torch.nn as nn\n",
    "import torch.nn.functional as F\n",
    "import torch.optim as optim\n",
    "\n",
    "from torchvision import datasets\n",
    "from torchvision import transforms\n",
    "from torch.utils.data import DataLoader\n",
    "from torchvision.datasets.folder import ImageFolder\n",
    "\n",
    "class ImageFolderWithPaths(datasets.ImageFolder):\n",
    "    \"\"\"Custom dataset that includes image file paths. Extends\n",
    "    torchvision.datasets.ImageFolder\n",
    "    \"\"\"\n",
    "    # override the __getitem__ method. this is the method that dataloader calls\n",
    "    def __getitem__(self, index):\n",
    "        # this is what ImageFolder normally returns \n",
    "        original_tuple = super(ImageFolderWithPaths, self).__getitem__(index)\n",
    "        # the image file path\n",
    "        path = self.imgs[index][0]\n",
    "        # make a new tuple that includes original and the path\n",
    "        tuple_with_path = (original_tuple + (index,) + (path,))\n",
    "        return tuple_with_path\n",
    "\n",
    "def get_train_valid_test_loader(args, random_seed, augment = False, valid_size=0.2, test_size=0.1, shuffle=True):\n",
    "    \"\"\"\n",
    "    show_sample=False\n",
    "    pin_memory=False\n",
    "    num_workers=4\n",
    "    Utility function for loading and returning train and valid\n",
    "    multi-process iterators over the CIFAR-10 dataset. A sample\n",
    "    9x9 grid of the images can be optionally displayed.\n",
    "    If using CUDA, num_workers should be set to 1 and pin_memory to True.\n",
    "    Params\n",
    "    ------\n",
    "    - data_dir: path directory to the dataset.\n",
    "    - batch_size: how many samples per batch to load.\n",
    "    - augment: whether to apply the data augmentation scheme\n",
    "      mentioned in the paper. Only applied on the train split.\n",
    "    - random_seed: fix seed for reproducibility.\n",
    "    - valid_size: percentage split of the training set used for\n",
    "      the validation set. Should be a float in the range [0, 1].\n",
    "    - shuffle: whether to shuffle the train/validation indices.\n",
    "    - show_sample: plot 9x9 sample grid of the dataset.\n",
    "    - num_workers: number of subprocesses to use when loading the dataset.\n",
    "    - pin_memory: whether to copy tensors into CUDA pinned memory. Set it to\n",
    "      True if using GPU.\n",
    "    Returns\n",
    "    -------\n",
    "    - train_loader: training set iterator.\n",
    "    - valid_loader: validation set iterator.\n",
    "    \"\"\"\n",
    "    error_msg = \"[!] valid_size should be in the range [0, 1].\"\n",
    "    assert ((valid_size >= 0) and (valid_size <= 1)), error_msg\n",
    "\n",
    "    normalize = transforms.Normalize(\n",
    "        mean=[0.5394, 0.5394, 0.5394],\n",
    "        std=[0.2447, 0.2447, 0.2447],\n",
    "    )\n",
    "\n",
    "    # define transforms\n",
    "    valid_transform = transforms.Compose([\n",
    "                      transforms.Resize([256,256]),\n",
    "                      transforms.ToTensor(),\n",
    "                      normalize,\n",
    "                                        ])\n",
    "    test_transform  = transforms.Compose([\n",
    "                      transforms.Resize([256,256]),\n",
    "                      transforms.ToTensor(),\n",
    "                      normalize,\n",
    "                                        ])\n",
    "    if augment:\n",
    "        train_transform = transforms.Compose([\n",
    "                      transforms.Resize([256,256]),\n",
    "                      transforms.RandomCrop(32, padding=4),\n",
    "                      transforms.RandomHorizontalFlip(),\n",
    "                      transforms.ToTensor(),\n",
    "                      normalize,\n",
    "        ])\n",
    "    else:\n",
    "        train_transform = transforms.Compose([\n",
    "                          transforms.Resize([256,256]),\n",
    "                          transforms.ToTensor(),\n",
    "                          normalize,\n",
    "        ])\n",
    "\n",
    "    # load the dataset with the whole data\n",
    "    train_dataset_transform = ImageFolderWithPaths(root=args.data_path, transform=train_transform)\n",
    "    valid_dataset_transform = ImageFolderWithPaths(root=args.data_path, transform=valid_transform)\n",
    "    test_dataset_transform  = ImageFolderWithPaths(root=args.data_path, transform=test_transform)\n",
    "\n",
    "    num_train = len(train_dataset_transform)\n",
    "    indices = list(range(num_train))\n",
    "    split_valid = int(np.floor(valid_size * num_train))\n",
    "    split_test = int(np.floor(test_size * num_train))\n",
    "\n",
    "    if shuffle:\n",
    "        np.random.seed(random_seed)\n",
    "        np.random.shuffle(indices)\n",
    "\n",
    "    train_idx, valid_idx, test_idx = indices[(split_valid+split_test):], indices[split_test:(split_valid+split_test)], indices[:split_test]\n",
    "\n",
    "    train_dataset = torch.utils.data.Subset(train_dataset_transform, train_idx)\n",
    "    valid_dataset = torch.utils.data.Subset(valid_dataset_transform, valid_idx)\n",
    "    test_dataset  = torch.utils.data.Subset(test_dataset_transform , test_idx)\n",
    "    \n",
    "    return (train_dataset, valid_dataset, test_dataset)"
   ]
  },
  {
   "cell_type": "code",
   "execution_count": 137,
   "id": "a6a020a3-2ba5-4b01-9acc-4c3b041acb7e",
   "metadata": {},
   "outputs": [],
   "source": [
    "class argss:\n",
    "    def __init__(self, data_path, batch_size):       \n",
    "        self.data_path = data_path\n",
    "        self.batch_size = batch_size\n",
    "args = argss(\"./breast\", \n",
    "            16)"
   ]
  },
  {
   "cell_type": "code",
   "execution_count": 138,
   "id": "fd461b38-a3ad-41f7-8e1d-3b5695c1e877",
   "metadata": {},
   "outputs": [],
   "source": [
    "batch_size = 1\n",
    "train_dataset, valid_dataset, test_dataset = get_train_valid_test_loader(args,\n",
    "                                                                            50,\n",
    "                                                                            False,\n",
    "                                                                            0.2,\n",
    "                                                                            0.1,\n",
    "                                                                            True\n",
    "                                                                            )\n",
    "val_loader  = DataLoader(valid_dataset, batch_size=batch_size, shuffle = False)\n",
    "device = \"cuda\" if torch.cuda.is_available() else \"cpu\"\n",
    "#modelPath = './probsThresthold_0.89_batch_size_16_batchNumber_1_epochs_3000_ver_0_model'\n",
    "#modelPath = './probsThresthold_0.40_batch_size_16_batchNumber_1_epochs_1000_weightIncrement_100.00_ver_0_model'\n",
    "#modelPath = './best_model_state'\n",
    "#modelPath = \"./model_2998\"\n",
    "modelPath = \"probsThresthold_0.97_batch_size_16_batchNumber_1_epochs_4000_ver_0_model\""
   ]
  },
  {
   "cell_type": "code",
   "execution_count": 139,
   "id": "13e88e50-b413-4ccf-902c-8761a88bddc3",
   "metadata": {},
   "outputs": [
    {
     "name": "stderr",
     "output_type": "stream",
     "text": [
      "Using cache found in /home/huong_n_pham01/.cache/torch/hub/pytorch_vision_v0.9.0\n"
     ]
    },
    {
     "data": {
      "text/plain": [
       "<All keys matched successfully>"
      ]
     },
     "execution_count": 139,
     "metadata": {},
     "output_type": "execute_result"
    }
   ],
   "source": [
    "modelNoWeight = torch.hub.load('pytorch/vision:v0.9.0', 'resnet50', pretrained=True)\n",
    "modelNoWeight.fc = nn.Sequential(nn.Linear(modelNoWeight.fc.in_features,500), nn.ReLU(), nn.Dropout(), nn.Linear(500,3))\n",
    "model_temp = torch.load(modelPath)\n",
    "#name = 'best_model_state'\n",
    "name = 'best_model'\n",
    "#name = \"model_2998\"\n",
    "modelNoWeight.to(device)\n",
    "modelNoWeight.load_state_dict(model_temp[name])"
   ]
  },
  {
   "cell_type": "code",
   "execution_count": null,
   "id": "45b3d736-ba4e-4a41-8852-517ae9328003",
   "metadata": {},
   "outputs": [],
   "source": [
    "modelNoWeight.eval()\n",
    "\n",
    "num_correct = 0\n",
    "num_examples = 0\n",
    "match = []\n",
    "targetList = []\n",
    "predList   = []\n",
    "probList   = []\n",
    "pathList   = []\n",
    "\n",
    "for index, data in enumerate(val_loader):\n",
    "    input, target, id, path = data\n",
    "    input = input.to(device)\n",
    "    output = modelNoWeight(input)\n",
    "    target = target.to(device)\n",
    "    pred   = torch.max(F.softmax(output, dim = 1), dim=1)[1]\n",
    "    prob = (torch.max(F.softmax(output, dim = 1), dim=1)[0])\n",
    "    print(\"%s | %s | %s | %0.2f | %s | %s\"%(((target == pred).item(), target.item(), pred.item(), prob.item(), path[0], id.item())))\n",
    "    correct = torch.eq(torch.max(F.softmax(output, dim = 1), dim=1)[1],\n",
    "    target).view(-1)\n",
    "    num_correct += torch.sum(correct).item()\n",
    "    num_examples += correct.shape[0]\n",
    "    match.append((target == pred).item())\n",
    "    targetList.append(target.item())\n",
    "    predList.append(pred.item())\n",
    "    probList.append(prob.item())\n",
    "    pathList.append(path[0])\n",
    "print(\"Validation accuracy: {}\".format(num_correct/num_examples))"
   ]
  },
  {
   "cell_type": "code",
   "execution_count": 140,
   "id": "44a5c777-f89d-4fce-92b9-829eb5bca062",
   "metadata": {},
   "outputs": [],
   "source": [
    "from pytorch_grad_cam import GradCAM, ScoreCAM, GradCAMPlusPlus, AblationCAM, XGradCAM, EigenCAM, FullGrad\n",
    "from pytorch_grad_cam.utils.model_targets import ClassifierOutputTarget\n",
    "from pytorch_grad_cam.utils.image import show_cam_on_image\n",
    "from torchvision.models import resnet50\n",
    "\n",
    "model = modelNoWeight\n",
    "target_layers = [model.layer4[-1]]"
   ]
  },
  {
   "cell_type": "code",
   "execution_count": 164,
   "id": "62194b0b-53d8-4370-9e2c-188c4889afbc",
   "metadata": {},
   "outputs": [],
   "source": [
    "input_tensor, target, id, path = iter(val_loader).next()\n"
   ]
  },
  {
   "cell_type": "code",
   "execution_count": 162,
   "id": "af518c06-7655-44c3-883a-900db87de4c0",
   "metadata": {},
   "outputs": [
    {
     "name": "stderr",
     "output_type": "stream",
     "text": [
      "Clipping input data to the valid range for imshow with RGB data ([0..1] for floats or [0..255] for integers).\n"
     ]
    },
    {
     "data": {
      "image/png": "[encoded data removed]",
      "text/plain": [
       "<Figure size 432x288 with 1 Axes>"
      ]
     },
     "metadata": {
      "needs_background": "light"
     },
     "output_type": "display_data"
    }
   ],
   "source": [
    "# CHOOSE THIS ONE\n",
    "input_tensor[0].shape\n",
    "image = input_tensor[0].permute(1, 2, 0).numpy()\n",
    "plt.imshow(image)\n",
    "\n",
    "rgb_img = cv2.imread(path[0], 1)[:, :, ::-1]\n",
    "rgb_img = cv2.resize(rgb_img, (256,256), interpolation = cv2.INTER_AREA)\n",
    "rgb_img = np.float32(rgb_img) / 255"
   ]
  },
  {
   "cell_type": "code",
   "execution_count": 165,
   "id": "04d9d0eb-8f85-412a-b534-9dbad63f43af",
   "metadata": {},
   "outputs": [],
   "source": [
    "# SKIP\n",
    "rgb_img = cv2.imread(path[0], 1)[:, :, ::-1]\n",
    "rgb_img = cv2.resize(rgb_img, (256,256), interpolation = cv2.INTER_AREA)\n",
    "rgb_img = np.float32(rgb_img) / 255\n",
    "input_tensor = preprocess_image(rgb_img,\n",
    "                                mean=[0.5394, 0.5394, 0.5394],\n",
    "                                std=[0.2447, 0.2447, 0.2447])"
   ]
  },
  {
   "cell_type": "code",
   "execution_count": null,
   "id": "1821a8f5-6b64-40fd-a0c7-811cd57260d7",
   "metadata": {},
   "outputs": [],
   "source": [
    "from pytorch_grad_cam.utils.image import show_cam_on_image, \\\n",
    "    deprocess_image, \\\n",
    "    preprocess_image"
   ]
  },
  {
   "cell_type": "code",
   "execution_count": 166,
   "id": "eab502f2-9d7e-41c0-a8ec-a68c28165bb1",
   "metadata": {},
   "outputs": [
    {
     "data": {
      "text/plain": [
       "True"
      ]
     },
     "execution_count": 166,
     "metadata": {},
     "output_type": "execute_result"
    }
   ],
   "source": [
    "#input_tensor = \n",
    "# Create an input tensor image for your model..\n",
    "# Note: input_tensor can be a batch tensor with several images!\n",
    "\n",
    "# Construct the CAM object once, and then re-use it on many images:\n",
    "cam = GradCAM(model=model, target_layers=target_layers, use_cuda=True)\n",
    "\n",
    "# You can also use it within a with statement, to make sure it is freed,\n",
    "# In case you need to re-create it inside an outer loop:\n",
    "# with GradCAM(model=model, target_layers=target_layers, use_cuda=args.use_cuda) as cam:\n",
    "#   ...\n",
    "\n",
    "# We have to specify the target we want to generate\n",
    "# the Class Activation Maps for.\n",
    "# If targets is None, the highest scoring category\n",
    "# will be used for every image in the batch.\n",
    "# Here we use ClassifierOutputTarget, but you can define your own custom targets\n",
    "# That are, for example, combinations of categories, or specific outputs in a non standard model.\n",
    "targets = None\n",
    "\n",
    "# You can also pass aug_smooth=True and eigen_smooth=True, to apply smoothing.\n",
    "grayscale_cam = cam(input_tensor=input_tensor,targets=targets)\n",
    "\n",
    "# In this example grayscale_cam has only one image in the batch:\n",
    "grayscale_cam = grayscale_cam[0, :]\n",
    "visualization = show_cam_on_image(rgb_img, grayscale_cam, use_rgb=True)\n",
    "visualization = cv2.cvtColor(visualization, cv2.COLOR_RGB2BGR)\n",
    "cv2.imwrite('new.jpg', visualization)"
   ]
  },
  {
   "cell_type": "code",
   "execution_count": null,
   "id": "513bef09-6dec-42cf-8e30-da9043d2b4dc",
   "metadata": {},
   "outputs": [],
   "source": [
    "model"
   ]
  },
  {
   "cell_type": "code",
   "execution_count": null,
   "id": "632a877b-50d6-4156-b85a-317122dc0870",
   "metadata": {},
   "outputs": [],
   "source": [
    "df = pd.DataFrame({\"Match\": match, \"Target\": targetList, \"Prediction\": predList, \"Certainty\": probList, \"Path\": pathList})\n",
    "df.to_csv(\"test_best_model_state_0VS12.csv\")"
   ]
  },
  {
   "cell_type": "code",
   "execution_count": null,
   "id": "0eb3c1cf-1068-44e3-aa9f-2b1332246795",
   "metadata": {},
   "outputs": [],
   "source": [
    "import glob\n",
    "import random\n",
    "import base64\n",
    "import pandas as pd\n",
    "\n",
    "from PIL import Image\n",
    "from io import BytesIO\n",
    "from IPython.display import HTML\n",
    "\n",
    "pd.set_option('display.max_colwidth', None)\n",
    "\n",
    "def get_thumbnail(path):\n",
    "    i = Image.open(path)\n",
    "    i.thumbnail((256, 256), Image.LANCZOS)\n",
    "    return i\n",
    "\n",
    "def image_base64(im):\n",
    "    if isinstance(im, str):\n",
    "        im = get_thumbnail(im)\n",
    "    with BytesIO() as buffer:\n",
    "        im.save(buffer, 'jpeg')\n",
    "        return base64.b64encode(buffer.getvalue()).decode()\n",
    "\n",
    "def image_formatter(im):\n",
    "    return f'<img src=\"data:image/jpeg;base64,{image_base64(im)}\">'"
   ]
  },
  {
   "cell_type": "code",
   "execution_count": null,
   "id": "7b83353d-af88-4bf3-8a2a-39286a8deda4",
   "metadata": {},
   "outputs": [],
   "source": [
    "df['Images'] = df.Path.map(lambda f: get_thumbnail(f))"
   ]
  },
  {
   "cell_type": "code",
   "execution_count": null,
   "id": "5fe83279-bb91-4f98-9f09-a5679992f268",
   "metadata": {},
   "outputs": [],
   "source": [
    "HTML(df[['Match', 'Target', 'Prediction', 'Certainty', 'Images', 'Path']].to_html(formatters={'Images': image_formatter}, escape=False))"
   ]
  },
  {
   "cell_type": "code",
   "execution_count": null,
   "id": "056c51ea-1972-4f67-9156-97a917ce7b3b",
   "metadata": {},
   "outputs": [],
   "source": [
    "\n",
    "df[['Match', 'Target', 'Prediction', 'Certainty', 'Images', 'Path']].to_html('IDRID_DME_model200_val.html',formatters={'Images': image_formatter}, escape=False)"
   ]
  },
  {
   "cell_type": "code",
   "execution_count": null,
   "id": "9b8af258-7f83-4ec5-80c6-96e7c49e9f94",
   "metadata": {},
   "outputs": [],
   "source": [
    "from pyLib.stopInstance import stop_instance\n",
    "stop_instance('inlaid-fuze-338203','us-central1-a','pytorch-gpu')"
   ]
  },
  {
   "cell_type": "code",
   "execution_count": null,
   "id": "307f4668-051f-43e0-a92c-1422876dca56",
   "metadata": {},
   "outputs": [],
   "source": [
    "[0] * 100"
   ]
  },
  {
   "cell_type": "code",
   "execution_count": null,
   "id": "2cf58244-5fb3-44a7-ab32-31845aacab15",
   "metadata": {},
   "outputs": [],
   "source": []
  }
 ],
 "metadata": {
  "kernelspec": {
   "display_name": "Python 3",
   "language": "python",
   "name": "python3"
  },
  "language_info": {
   "codemirror_mode": {
    "name": "ipython",
    "version": 3
   },
   "file_extension": ".py",
   "mimetype": "text/x-python",
   "name": "python",
   "nbconvert_exporter": "python",
   "pygments_lexer": "ipython3",
   "version": "3.7.12"
  }
 },
 "nbformat": 4,
 "nbformat_minor": 5
}
